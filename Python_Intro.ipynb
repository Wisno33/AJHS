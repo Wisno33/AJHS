{
 "cells": [
  {
   "cell_type": "markdown",
   "metadata": {},
   "source": [
    "# Python Intro Assignment\n",
    "You'll be introduced to basic operations in the Python programming language.  These operations are foundational to the remainder of the course, where you'll use knowledge of them on projects and exams.\n",
    "\n",
    "Feel free to lookup documentation in order to complete the assignment, but make sure you understand how to do this stuff."
   ]
  },
  {
   "cell_type": "markdown",
   "metadata": {},
   "source": [
    "## Strings\n",
    "In this section, you'll perform basic operations on strings"
   ]
  },
  {
   "cell_type": "code",
   "execution_count": 15,
   "metadata": {},
   "outputs": [],
   "source": [
    "# CONSTANTS - don't update these\n",
    "A_TEST_STRING = \"the quick brown fox jumped over the lazy dog\"\n",
    "ANOTHER_TEST_STRING = \" yesterday morning\"\n",
    "\n",
    "# TODO - Enter code below that returns the values desired,\n",
    "length_of_a_test_string = None\n",
    "a_test_string_to_upper = None\n",
    "first_10_chars_of_a_test_string = None\n",
    "last_4_chars_of_a_test_string = None\n",
    "middle_10_chars_of_a_test_string = None\n",
    "replace_e_with_t_in_a_test_string = None\n",
    "combine_a_test_string_with_another_test_string = None\n",
    "\n",
    "# Output\n"
   ]
  },
  {
   "cell_type": "markdown",
   "metadata": {},
   "source": [
    "## Lists"
   ]
  },
  {
   "cell_type": "code",
   "execution_count": 16,
   "metadata": {},
   "outputs": [],
   "source": [
    "# TODO - Enter code below that returns the values desired,\n",
    "list_from_splitting_a_test_string_by_spaces = None\n",
    "first_3_elements_of_list_from_above = None\n",
    "last_1_element_of_list_from_above = None\n",
    "append_string_yesterday_to_list_from_above = None\n",
    "make_all_elements_in_list_from_above_upper_case = None\n",
    "\n",
    "# Output\n"
   ]
  },
  {
   "cell_type": "markdown",
   "metadata": {},
   "source": [
    "## Numbers"
   ]
  },
  {
   "cell_type": "code",
   "execution_count": 17,
   "metadata": {},
   "outputs": [],
   "source": [
    "# CONSTANTS - do not edit these\n",
    "A_FLOAT = 0.10\n",
    "AN_INTEGER = 8\n",
    "SCIENTIFIC = 10e-5\n",
    "\n",
    "# TODO - Enter code below that returns the values desired\n",
    "add_a_float_and_an_integer = None\n",
    "divide_an_integer_by_a_float = None\n",
    "multiply_scientific_and_an_integer = None\n",
    "integer_divide_a_float_by_scientific = None\n",
    "\n",
    "# Output\n"
   ]
  },
  {
   "cell_type": "markdown",
   "metadata": {},
   "source": [
    "## Dictionaries"
   ]
  },
  {
   "cell_type": "code",
   "execution_count": 18,
   "metadata": {},
   "outputs": [],
   "source": [
    "# TODO - Enter code below that returns the values desired\n",
    "dictionary_of_word_counts_from_a_test_string = None\n",
    "count_occurences_of_brown_in_dict_from_above = None\n",
    "\n",
    "# Output\n"
   ]
  },
  {
   "cell_type": "markdown",
   "metadata": {},
   "source": [
    "## Functions"
   ]
  },
  {
   "cell_type": "code",
   "execution_count": 19,
   "metadata": {},
   "outputs": [],
   "source": [
    "# TODO - Enter code below that returns the values desired using a function call\n",
    "\n",
    "last_char_of_a_test_string = None\n",
    "\n",
    "# Output\n"
   ]
  },
  {
   "cell_type": "markdown",
   "metadata": {},
   "source": [
    "## Conditions"
   ]
  },
  {
   "cell_type": "code",
   "execution_count": 21,
   "metadata": {},
   "outputs": [],
   "source": [
    "# TODO - Enter code below that returns the values desired\n",
    "def is_t_first(a_string):\n",
    "    pass\n",
    "\n",
    "\n",
    "if_first_char_of_a_test_string_is_t_then_1_else_0 = None\n",
    "negate_the_above = None  # Use ternary operator\n",
    "\n",
    "# Output\n"
   ]
  },
  {
   "cell_type": "markdown",
   "metadata": {},
   "source": [
    "## Loops"
   ]
  },
  {
   "cell_type": "code",
   "execution_count": 20,
   "metadata": {},
   "outputs": [],
   "source": [
    "# Variable - dont edit these\n",
    "character_list = []\n",
    "\n",
    "# TODO - Enter code below that returns the values desired\n",
    "# Loop through A_TEST_STRING appended each character to character_list\n",
    "\n",
    "\n",
    "# Output"
   ]
  },
  {
   "cell_type": "markdown",
   "metadata": {},
   "source": [
    "## Classes"
   ]
  },
  {
   "cell_type": "code",
   "execution_count": 22,
   "metadata": {},
   "outputs": [],
   "source": [
    "# TODO - Enter code below that returns the values desired\n",
    "# write a class called NumberTimesTwo that takes as a constructor parameter a number and\n",
    "# has a single method called multiply that returns that number multiplied by 2\n",
    "\n",
    "\n",
    "# Output\n"
   ]
  },
  {
   "cell_type": "markdown",
   "metadata": {},
   "source": [
    "## Libraries"
   ]
  },
  {
   "cell_type": "code",
   "execution_count": 23,
   "metadata": {},
   "outputs": [],
   "source": [
    "# TODO - Enter code below that returns the values desired\n",
    "# write code to import os path class\n",
    "\n",
    "# use a from statement to do the same as above\n",
    "\n",
    "# import both the path class and\n"
   ]
  },
  {
   "cell_type": "markdown",
   "metadata": {},
   "source": [
    "## Exception Handling"
   ]
  },
  {
   "cell_type": "code",
   "execution_count": 24,
   "metadata": {},
   "outputs": [
    {
     "ename": "TypeError",
     "evalue": "argument of type 'NoneType' is not iterable",
     "output_type": "error",
     "traceback": [
      "\u001b[0;31m---------------------------------------------------------------------------\u001b[0m",
      "\u001b[0;31mTypeError\u001b[0m                                 Traceback (most recent call last)",
      "\u001b[0;32m/var/folders/b9/x1dt7pls2d371_5k1cfbljc80000gn/T/ipykernel_45409/3795423973.py\u001b[0m in \u001b[0;36m<module>\u001b[0;34m\u001b[0m\n\u001b[1;32m      2\u001b[0m \u001b[0;31m# update the below to print a message saying 'none is not iterable'\u001b[0m\u001b[0;34m\u001b[0m\u001b[0;34m\u001b[0m\u001b[0;34m\u001b[0m\u001b[0m\n\u001b[1;32m      3\u001b[0m \u001b[0;31m# rather than throwing an error using a try except block\u001b[0m\u001b[0;34m\u001b[0m\u001b[0;34m\u001b[0m\u001b[0;34m\u001b[0m\u001b[0m\n\u001b[0;32m----> 4\u001b[0;31m \u001b[0;34m\"the\"\u001b[0m \u001b[0;32min\u001b[0m \u001b[0;32mNone\u001b[0m\u001b[0;34m\u001b[0m\u001b[0;34m\u001b[0m\u001b[0m\n\u001b[0m",
      "\u001b[0;31mTypeError\u001b[0m: argument of type 'NoneType' is not iterable"
     ]
    }
   ],
   "source": [
    "# TODO - Enter code below that returns the values desired\n",
    "# update the below to print a message saying 'none is not iterable'\n",
    "# rather than throwing an error using a try except block\n",
    "\"the\" in None"
   ]
  }
 ],
 "metadata": {
  "kernelspec": {
   "display_name": "Python 3",
   "language": "python",
   "name": "python3"
  },
  "language_info": {
   "codemirror_mode": {
    "name": "ipython",
    "version": 3
   },
   "file_extension": ".py",
   "mimetype": "text/x-python",
   "name": "python",
   "nbconvert_exporter": "python",
   "pygments_lexer": "ipython3",
   "version": "3.8.12"
  }
 },
 "nbformat": 4,
 "nbformat_minor": 2
}
